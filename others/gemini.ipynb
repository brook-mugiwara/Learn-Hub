{
 "cells": [
  {
   "cell_type": "code",
   "execution_count": 3,
   "metadata": {},
   "outputs": [
    {
     "ename": "ModuleNotFoundError",
     "evalue": "No module named 'gemini'",
     "output_type": "error",
     "traceback": [
      "\u001b[1;31m---------------------------------------------------------------------------\u001b[0m",
      "\u001b[1;31mModuleNotFoundError\u001b[0m                       Traceback (most recent call last)",
      "Cell \u001b[1;32mIn[3], line 1\u001b[0m\n\u001b[1;32m----> 1\u001b[0m \u001b[38;5;28;01mimport\u001b[39;00m \u001b[38;5;21;01mgemini\u001b[39;00m\n\u001b[0;32m      2\u001b[0m \u001b[38;5;28;01mfrom\u001b[39;00m \u001b[38;5;21;01mPIL\u001b[39;00m \u001b[38;5;28;01mimport\u001b[39;00m Image, ImageDraw, ImageFont\n\u001b[0;32m      4\u001b[0m \u001b[38;5;66;03m# Generate text description using Gemini\u001b[39;00m\n",
      "\u001b[1;31mModuleNotFoundError\u001b[0m: No module named 'gemini'"
     ]
    }
   ],
   "source": [
    "import gemini\n",
    "from PIL import Image, ImageDraw, ImageFont\n",
    "\n",
    "# Generate text description using Gemini\n",
    "description = gemini.eval(\"A peaceful forest with tall trees and a flowing river.\")\n",
    "\n",
    "# Create an image based on the text description\n",
    "image_width = 800\n",
    "image_height = 600\n",
    "background_color = (255, 255, 255)\n",
    "text_color = (0, 0, 0)\n",
    "font_size = 24\n",
    "font = ImageFont.truetype(\"arial.ttf\", font_size)\n",
    "\n",
    "image = Image.new(\"RGB\", (image_width, image_height), background_color)\n",
    "draw = ImageDraw.Draw(image)\n",
    "\n",
    "# Wrap text to fit within the image width\n",
    "import textwrap\n",
    "wrapped_text = textwrap.fill(description, width=50)\n",
    "\n",
    "# Calculate text size and position\n",
    "text_size = draw.textsize(wrapped_text, font=font)\n",
    "text_x = (image_width - text_size[0]) / 2\n",
    "text_y = (image_height - text_size[1]) / 2\n",
    "\n",
    "# Draw text on the image\n",
    "draw.text((text_x, text_y), wrapped_text, fill=text_color, font=font)\n",
    "\n",
    "# Save or display the image\n",
    "image.show()\n"
   ]
  }
 ],
 "metadata": {
  "kernelspec": {
   "display_name": "venv",
   "language": "python",
   "name": "python3"
  },
  "language_info": {
   "codemirror_mode": {
    "name": "ipython",
    "version": 3
   },
   "file_extension": ".py",
   "mimetype": "text/x-python",
   "name": "python",
   "nbconvert_exporter": "python",
   "pygments_lexer": "ipython3",
   "version": "3.10.6"
  }
 },
 "nbformat": 4,
 "nbformat_minor": 2
}
